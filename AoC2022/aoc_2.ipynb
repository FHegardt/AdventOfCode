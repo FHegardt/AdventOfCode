{
 "cells": [
  {
   "cell_type": "code",
   "execution_count": 51,
   "metadata": {},
   "outputs": [
    {
     "name": "stdout",
     "output_type": "stream",
     "text": [
      "14297\n"
     ]
    }
   ],
   "source": [
    "import csv\n",
    "import string\n",
    "\n",
    "\n",
    "\n",
    "def rock_paper_scissor(row):\n",
    "    rps = {\"A X\":4, \"B Y\": 5, \"C Z\": 6, \"A Y\": 8, \"A Z\": 3, \"B X\": 1, \"B Z\": 9, \"C X\": 7, \"C Y\": 2}\n",
    "    return rps[row[0]]\n",
    "    \n",
    "with open(\"aoc2.csv\", 'r') as file:\n",
    "  csvreader = csv.reader(file)\n",
    "  sum = 0\n",
    "  for row in csvreader:\n",
    "    sum += rock_paper_scissor(row)\n",
    "\n",
    "print(sum)\n",
    "\n"
   ]
  },
  {
   "cell_type": "code",
   "execution_count": 52,
   "metadata": {},
   "outputs": [
    {
     "name": "stdout",
     "output_type": "stream",
     "text": [
      "10498\n"
     ]
    }
   ],
   "source": [
    "import csv\n",
    "\n",
    "def converter_row(row):\n",
    "    rps = {\"A X\":3, \"B Y\": 5, \"C Z\": 7, \"A Y\": 4, \"A Z\": 8, \"B X\": 1, \"B Z\": 9, \"C X\": 2, \"C Y\": 6}\n",
    "    return rps[row[0]]\n",
    "    \n",
    "with open(\"aoc2.csv\", 'r') as file:\n",
    "  csvreader = csv.reader(file)\n",
    "  sum = 0\n",
    "  for row in csvreader:\n",
    "    sum += converter_row(row)\n",
    "\n",
    "print(sum)"
   ]
  }
 ],
 "metadata": {
  "kernelspec": {
   "display_name": "Python 3.9.6 64-bit",
   "language": "python",
   "name": "python3"
  },
  "language_info": {
   "codemirror_mode": {
    "name": "ipython",
    "version": 3
   },
   "file_extension": ".py",
   "mimetype": "text/x-python",
   "name": "python",
   "nbconvert_exporter": "python",
   "pygments_lexer": "ipython3",
   "version": "3.9.6"
  },
  "orig_nbformat": 4,
  "vscode": {
   "interpreter": {
    "hash": "26661b442aff7ea15cf4c9ce3f1085e1435c6171378b7b870c117ee6f69d91d7"
   }
  }
 },
 "nbformat": 4,
 "nbformat_minor": 2
}
