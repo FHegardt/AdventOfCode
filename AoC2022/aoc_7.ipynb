{
 "cells": [
  {
   "cell_type": "code",
   "execution_count": 9,
   "metadata": {},
   "outputs": [
    {
     "name": "stdout",
     "output_type": "stream",
     "text": [
      "$ cd /\n"
     ]
    }
   ],
   "source": [
    "import csv\n",
    "theList = []\n",
    "with open(\"aoc7.csv\", 'r') as file:\n",
    "  for row in csv.reader(file):\n",
    "    theList.append(row[0])\n",
    "\n",
    "theDict = {}\n",
    "\n",
    "for i in range(len(theList)):\n",
    "    if theList[i][0:4] == \"$ cd\":\n",
    "        if theList[i][5] == \"/\":\n",
    "            print(theList[i])\n",
    "\n"
   ]
  }
 ],
 "metadata": {
  "kernelspec": {
   "display_name": "Python 3.9.6 64-bit",
   "language": "python",
   "name": "python3"
  },
  "language_info": {
   "codemirror_mode": {
    "name": "ipython",
    "version": 3
   },
   "file_extension": ".py",
   "mimetype": "text/x-python",
   "name": "python",
   "nbconvert_exporter": "python",
   "pygments_lexer": "ipython3",
   "version": "3.9.6"
  },
  "orig_nbformat": 4,
  "vscode": {
   "interpreter": {
    "hash": "26661b442aff7ea15cf4c9ce3f1085e1435c6171378b7b870c117ee6f69d91d7"
   }
  }
 },
 "nbformat": 4,
 "nbformat_minor": 2
}
