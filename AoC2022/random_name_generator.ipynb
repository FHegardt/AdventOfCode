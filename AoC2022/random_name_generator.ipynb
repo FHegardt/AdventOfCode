{
 "cells": [
  {
   "cell_type": "code",
   "execution_count": 88,
   "metadata": {},
   "outputs": [
    {
     "name": "stdout",
     "output_type": "stream",
     "text": [
      "Ikrfedr Agrhdte\n"
     ]
    }
   ],
   "source": [
    "import random as rnd\n",
    "\n",
    "def random_name_generator(first_name, last_name):\n",
    "    first_name_list = []\n",
    "    last_name_list = []\n",
    "    for i in range(len(first_name)):\n",
    "        if i == 0:\n",
    "            first_name_list.append(first_name[i].lower())\n",
    "        else:\n",
    "            first_name_list.append(first_name[i])\n",
    "    for i in range(len(last_name)):\n",
    "        if i == 0:\n",
    "            last_name_list.append(last_name[i].lower())\n",
    "        else:\n",
    "            last_name_list.append(last_name[i])\n",
    "    rnd.shuffle(first_name_list)\n",
    "    rnd.shuffle(last_name_list)\n",
    "    newFirstName = ''.join(first_name_list)\n",
    "    newLastName = ''.join(last_name_list)\n",
    "    print(newFirstName.capitalize(), newLastName.capitalize())    \n",
    "\n",
    "\n",
    "first_name = \"Fredrik\"\n",
    "last_name = \"Hegardt\"\n",
    "\n",
    "random_name_generator(first_name, last_name)"
   ]
  }
 ],
 "metadata": {
  "kernelspec": {
   "display_name": "Python 3.9.6 64-bit",
   "language": "python",
   "name": "python3"
  },
  "language_info": {
   "codemirror_mode": {
    "name": "ipython",
    "version": 3
   },
   "file_extension": ".py",
   "mimetype": "text/x-python",
   "name": "python",
   "nbconvert_exporter": "python",
   "pygments_lexer": "ipython3",
   "version": "3.9.6"
  },
  "orig_nbformat": 4,
  "vscode": {
   "interpreter": {
    "hash": "26661b442aff7ea15cf4c9ce3f1085e1435c6171378b7b870c117ee6f69d91d7"
   }
  }
 },
 "nbformat": 4,
 "nbformat_minor": 2
}
