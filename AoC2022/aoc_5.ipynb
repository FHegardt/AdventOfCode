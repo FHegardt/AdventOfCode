{
 "cells": [
  {
   "cell_type": "code",
   "execution_count": 30,
   "metadata": {},
   "outputs": [
    {
     "name": "stdout",
     "output_type": "stream",
     "text": [
      "R\n",
      "N\n",
      "Z\n",
      "L\n",
      "F\n",
      "Z\n",
      "S\n",
      "J\n",
      "H\n"
     ]
    }
   ],
   "source": [
    "import csv\n",
    "# 0 är överst i listan\n",
    "start_lanes = {1: [\"S\",\"L\",\"F\",\"Z\",\"D\",\"B\",\"R\",\"H\"], 2: [\"R\",\"Z\",\"M\",\"B\",\"T\"], 3: [\"S\",\"N\",\"H\",\"C\",\"L\",\"Z\"],4: [\"J\",\"F\",\"C\",\"S\"], 5: [\"B\",\"Z\",\"R\",\"W\",\"H\",\"G\",\"P\"], 6: [\"T\",\"M\",\"N\",\"D\",\"G\",\"Z\",\"J\",\"V\"], 7: [\"Q\",\"P\",\"S\",\"F\",\"W\",\"N\",\"L\",\"G\"], 8: [\"R\",\"Z\",\"M\"], 9:[\"T\",\"R\",\"V\",\"G\",\"L\",\"C\",\"M\"]}\n",
    "\n",
    "def theMover(nrfrom, nrto, times, lanes):\n",
    "    for i in range(times):\n",
    "        letter = lanes[nrfrom].pop(0)\n",
    "        lanes[nrto].insert(0,letter)\n",
    "    return lanes\n",
    "\n",
    "\n",
    "with open(\"aoc5.csv\", 'r') as file:\n",
    "  lanes = start_lanes\n",
    "  for row in csv.reader(file):\n",
    "    times = int(row[0].split()[1])\n",
    "    nrfrom = int(row[0].split()[3])\n",
    "    nrto = int(row[0].split()[5])\n",
    "    lanes = theMover(nrfrom, nrto, times, lanes)\n",
    "\n",
    "for i in range(1,10):\n",
    "    print(lanes[i][0])\n",
    "    "
   ]
  },
  {
   "cell_type": "code",
   "execution_count": null,
   "metadata": {},
   "outputs": [],
   "source": [
    "import csv\n",
    "# 0 är överst i listan\n",
    "start_lanes = {1: [\"S\",\"L\",\"F\",\"Z\",\"D\",\"B\",\"R\",\"H\"], 2: [\"R\",\"Z\",\"M\",\"B\",\"T\"], 3: [\"S\",\"N\",\"H\",\"C\",\"L\",\"Z\"],4: [\"J\",\"F\",\"C\",\"S\"], 5: [\"B\",\"Z\",\"R\",\"W\",\"H\",\"G\",\"P\"], 6: [\"T\",\"M\",\"N\",\"D\",\"G\",\"Z\",\"J\",\"V\"], 7: [\"Q\",\"P\",\"S\",\"F\",\"W\",\"N\",\"L\",\"G\"], 8: [\"R\",\"Z\",\"M\"], 9:[\"T\",\"R\",\"V\",\"G\",\"L\",\"C\",\"M\"]}\n",
    "\n",
    "def theMover(nrfrom, nrto, times, lanes):\n",
    "    for i in range(times):\n",
    "        letter = lanes[nrfrom].pop(0)\n",
    "        lanes[nrto].insert(0,letter)\n",
    "    return lanes\n",
    "\n",
    "\n",
    "with open(\"aoc5.csv\", 'r') as file:\n",
    "  lanes = start_lanes\n",
    "  for row in csv.reader(file):\n",
    "    times = int(row[0].split()[1])\n",
    "    nrfrom = int(row[0].split()[3])\n",
    "    nrto = int(row[0].split()[5])\n",
    "    lanes = theMover(nrfrom, nrto, times, lanes)\n",
    "\n",
    "for i in range(1,10):\n",
    "    print(lanes[i][0])"
   ]
  },
  {
   "cell_type": "code",
   "execution_count": 10,
   "metadata": {},
   "outputs": [
    {
     "name": "stdout",
     "output_type": "stream",
     "text": [
      "C\n",
      "N\n",
      "S\n",
      "F\n",
      "C\n",
      "G\n",
      "J\n",
      "S\n",
      "M\n"
     ]
    }
   ],
   "source": [
    "import csv\n",
    "# 0 är överst i listan\n",
    "start_lanes = {1: [\"S\",\"L\",\"F\",\"Z\",\"D\",\"B\",\"R\",\"H\"], 2: [\"R\",\"Z\",\"M\",\"B\",\"T\"], 3: [\"S\",\"N\",\"H\",\"C\",\"L\",\"Z\"],4: [\"J\",\"F\",\"C\",\"S\"], 5: [\"B\",\"Z\",\"R\",\"W\",\"H\",\"G\",\"P\"], 6: [\"T\",\"M\",\"N\",\"D\",\"G\",\"Z\",\"J\",\"V\"], 7: [\"Q\",\"P\",\"S\",\"F\",\"W\",\"N\",\"L\",\"G\"], 8: [\"R\",\"Z\",\"M\"], 9:[\"T\",\"R\",\"V\",\"G\",\"L\",\"C\",\"M\"]}\n",
    "\n",
    "def theMover(nrfrom, nrto, times, lanes):\n",
    "    for i in range(times):\n",
    "        letter = lanes[nrfrom].pop((times-1)-i)\n",
    "        lanes[nrto].insert(0,letter)\n",
    "    return lanes\n",
    "\n",
    "\n",
    "with open(\"aoc5.csv\", 'r') as file:\n",
    "  lanes = start_lanes\n",
    "  for row in csv.reader(file):\n",
    "    lanes = theMover(int(row[0].split()[3]), int(row[0].split()[5]), int(row[0].split()[1]), lanes)\n",
    "\n",
    "for i in range(1,10):\n",
    "    print(lanes[i][0])"
   ]
  }
 ],
 "metadata": {
  "kernelspec": {
   "display_name": "Python 3.9.6 64-bit",
   "language": "python",
   "name": "python3"
  },
  "language_info": {
   "codemirror_mode": {
    "name": "ipython",
    "version": 3
   },
   "file_extension": ".py",
   "mimetype": "text/x-python",
   "name": "python",
   "nbconvert_exporter": "python",
   "pygments_lexer": "ipython3",
   "version": "3.9.6"
  },
  "orig_nbformat": 4,
  "vscode": {
   "interpreter": {
    "hash": "26661b442aff7ea15cf4c9ce3f1085e1435c6171378b7b870c117ee6f69d91d7"
   }
  }
 },
 "nbformat": 4,
 "nbformat_minor": 2
}
