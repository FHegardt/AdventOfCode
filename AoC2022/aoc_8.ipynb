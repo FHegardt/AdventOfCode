{
 "cells": [
  {
   "cell_type": "code",
   "execution_count": 6,
   "metadata": {},
   "outputs": [
    {
     "name": "stdout",
     "output_type": "stream",
     "text": [
      "1851\n"
     ]
    }
   ],
   "source": [
    "import csv\n",
    "treeList = []\n",
    "with open(\"aoc8.csv\", 'r') as file:\n",
    "  for row in csv.reader(file):\n",
    "    treeList.append(row[0])\n",
    "\n",
    "\n",
    "counter = 0\n",
    "for a in range(1, len(treeList)-1):\n",
    "    for b in range(1,len(treeList[a])-1):\n",
    "        newleftlist = []\n",
    "        newrightlist = []\n",
    "        nr = int(treeList[a][b])\n",
    "        #print(nr)\n",
    "\n",
    "        leftlist = treeList[a][0:b]\n",
    "        newleftlist = [False if nr <= int(l) else '' for l in leftlist]\n",
    "        if not False in newleftlist:\n",
    "            #print(\"exist left\")\n",
    "            counter += 1\n",
    "            pass\n",
    "        else:\n",
    "            rightlist = treeList[a][b+1:len(treeList[a])]\n",
    "            newrightlist = [False if nr <= int(r) else '' for r in rightlist]\n",
    "            if not False in newrightlist:\n",
    "                #print(\"exist right\")\n",
    "                counter += 1\n",
    "            else:\n",
    "                toplist = [int(treeList[y][b]) for y in range(0, a)]\n",
    "                newtoplist = [False if nr <= int(s) else '' for s in toplist]\n",
    "                if not False in newtoplist:\n",
    "                    #print(\"exist top\")\n",
    "                    counter += 1\n",
    "                else:\n",
    "                    botlist = [int(treeList[y][b]) for y in range(a+1, len(treeList[a]))]\n",
    "                    newbotlist = [False if nr <= int(s) else '' for s in botlist]\n",
    "                    if not False in newbotlist:\n",
    "                        #print(\"exist bot\")\n",
    "                        counter += 1\n",
    "\n",
    "\n",
    "adder = len(treeList[0])*4 -4\n",
    "print(counter+adder)\n",
    "\n"
   ]
  },
  {
   "cell_type": "code",
   "execution_count": 29,
   "metadata": {},
   "outputs": [
    {
     "name": "stdout",
     "output_type": "stream",
     "text": [
      "574080\n"
     ]
    }
   ],
   "source": [
    "import csv\n",
    "treeList = []\n",
    "with open(\"aoc8.csv\", 'r') as file:\n",
    "  for row in csv.reader(file):\n",
    "    treeList.append(row[0])\n",
    "\n",
    "\n",
    "top_val = 0\n",
    "for a in range(1, len(treeList)-1):\n",
    "    for b in range(1,len(treeList[a])-1):\n",
    "        leftlist = []\n",
    "        rightlist = []\n",
    "        nr = int(treeList[a][b])\n",
    "       \n",
    "\n",
    "        leftlist = treeList[a][0:b]\n",
    "        rightlist = treeList[a][b+1:len(treeList[a])]\n",
    "        toplist = [int(treeList[y][b]) for y in range(0, a)]\n",
    "        botlist = [int(treeList[y][b]) for y in range(a+1, len(treeList[a]))]\n",
    "        leftcount = 1\n",
    "        rightcount = 1\n",
    "        topcount = 1\n",
    "        botcount = 1\n",
    "        for i in range(len(leftlist)):\n",
    "            if i == (len(leftlist)-1):\n",
    "                break\n",
    "            elif nr > int(leftlist[len(leftlist)-1-i]):\n",
    "                leftcount +=1\n",
    "            else: \n",
    "                break \n",
    "        for i in range(len(rightlist)):\n",
    "            if i == (len(rightlist)-1):\n",
    "                break\n",
    "            if nr > int(rightlist[i]):\n",
    "                rightcount +=1\n",
    "            else: \n",
    "                break \n",
    "        for i in range(len(toplist)):\n",
    "            if i == (len(toplist)-1):\n",
    "                break\n",
    "            if nr > int(toplist[len(toplist)-1-i]):\n",
    "                topcount +=1\n",
    "            else: \n",
    "                break \n",
    "        for i in range(len(botlist)):\n",
    "            if i == (len(botlist)-1):\n",
    "                break\n",
    "            if nr > int(botlist[i]):\n",
    "                botcount +=1\n",
    "            else: \n",
    "                break \n",
    "\n",
    "\n",
    "        curr_val = leftcount* rightcount* topcount* botcount\n",
    "        if curr_val > top_val:\n",
    "            top_val = curr_val\n",
    "\n",
    "print(top_val)\n",
    "\n"
   ]
  }
 ],
 "metadata": {
  "kernelspec": {
   "display_name": "Python 3.9.6 64-bit",
   "language": "python",
   "name": "python3"
  },
  "language_info": {
   "codemirror_mode": {
    "name": "ipython",
    "version": 3
   },
   "file_extension": ".py",
   "mimetype": "text/x-python",
   "name": "python",
   "nbconvert_exporter": "python",
   "pygments_lexer": "ipython3",
   "version": "3.9.6"
  },
  "orig_nbformat": 4,
  "vscode": {
   "interpreter": {
    "hash": "26661b442aff7ea15cf4c9ce3f1085e1435c6171378b7b870c117ee6f69d91d7"
   }
  }
 },
 "nbformat": 4,
 "nbformat_minor": 2
}
