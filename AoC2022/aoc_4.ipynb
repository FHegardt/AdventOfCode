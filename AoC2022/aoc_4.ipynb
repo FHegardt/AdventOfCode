{
 "cells": [
  {
   "cell_type": "code",
   "execution_count": 47,
   "metadata": {},
   "outputs": [
    {
     "name": "stdout",
     "output_type": "stream",
     "text": [
      "7446\n"
     ]
    }
   ],
   "source": [
    "import csv\n",
    "import string \n",
    "\n",
    "def common_char(s1,s2):\n",
    "    a=list(set(s1)&set(s2))\n",
    "    for i in a:\n",
    "        try:\n",
    "            return int(string.ascii_lowercase.index(i)+1)\n",
    "        except:\n",
    "            return int(string.ascii_uppercase.index(i)+27)\n",
    "            \n",
    "sum = 0\n",
    "with open(\"aoc4.csv\", 'r') as file:\n",
    "  for row in csv.reader(file):\n",
    "    slicer = int(len(row[0])/2)\n",
    "    fullen = int(len(row[0]))\n",
    "    comp1,comp2 = row[0][0:slicer], row[0][slicer:fullen]\n",
    "    sum += common_char(comp1,comp2)\n",
    "    \n",
    "print(sum)"
   ]
  },
  {
   "cell_type": "code",
   "execution_count": 55,
   "metadata": {},
   "outputs": [
    {
     "name": "stdout",
     "output_type": "stream",
     "text": [
      "2646\n"
     ]
    }
   ],
   "source": [
    "import csv\n",
    "import string \n",
    "\n",
    "def common_char(s1,s2,s3):\n",
    "    a=list(set(s1)&set(s2)&set(s3))\n",
    "    for i in a:\n",
    "        try:\n",
    "            return int(string.ascii_lowercase.index(i)+1)\n",
    "        except:\n",
    "            return int(string.ascii_uppercase.index(i)+27)\n",
    "            \n",
    "sum = 0\n",
    "rowlist = []\n",
    "with open(\"aoc4.csv\", 'r') as file:\n",
    "  for row in csv.reader(file):\n",
    "    rowlist.append(row[0])\n",
    "\n",
    "for i in range(int(len(rowlist)/3)):\n",
    "    sum += common_char(rowlist[i*3], rowlist[i*3+1], rowlist[i*3+2])\n",
    "print(sum)"
   ]
  }
 ],
 "metadata": {
  "kernelspec": {
   "display_name": "Python 3.9.6 64-bit",
   "language": "python",
   "name": "python3"
  },
  "language_info": {
   "codemirror_mode": {
    "name": "ipython",
    "version": 3
   },
   "file_extension": ".py",
   "mimetype": "text/x-python",
   "name": "python",
   "nbconvert_exporter": "python",
   "pygments_lexer": "ipython3",
   "version": "3.9.6"
  },
  "orig_nbformat": 4,
  "vscode": {
   "interpreter": {
    "hash": "26661b442aff7ea15cf4c9ce3f1085e1435c6171378b7b870c117ee6f69d91d7"
   }
  }
 },
 "nbformat": 4,
 "nbformat_minor": 2
}
