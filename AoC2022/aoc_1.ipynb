{
 "cells": [
  {
   "cell_type": "code",
   "execution_count": 13,
   "metadata": {},
   "outputs": [
    {
     "name": "stdout",
     "output_type": "stream",
     "text": [
      "67027\n"
     ]
    }
   ],
   "source": [
    "import csv\n",
    "curr_num, high_num = 0, 0\n",
    "with open(\"aoc1.csv\", 'r') as file:\n",
    "  csvreader = csv.reader(file)\n",
    "  for row in csvreader:\n",
    "    if row == []:\n",
    "        if curr_num > high_num:\n",
    "            high_num = curr_num\n",
    "        curr_num = 0\n",
    "    else:\n",
    "        curr_num += int(row[0])\n",
    "\n",
    "print(high_num)"
   ]
  },
  {
   "cell_type": "code",
   "execution_count": 15,
   "metadata": {},
   "outputs": [
    {
     "name": "stdout",
     "output_type": "stream",
     "text": [
      "197291\n"
     ]
    }
   ],
   "source": [
    "import csv\n",
    "curr_num = 0\n",
    "high_num_list = [0,0,0]\n",
    "\n",
    "with open(\"aoc1.csv\", 'r') as file:\n",
    "  csvreader = csv.reader(file)\n",
    "  for row in csvreader:\n",
    "    if row == []:\n",
    "        high_num_list.sort()\n",
    "        if curr_num > high_num_list[0]:\n",
    "            high_num_list.pop(0)\n",
    "            high_num_list.insert(0, curr_num)\n",
    "        curr_num = 0\n",
    "    else:\n",
    "        curr_num += int(row[0])\n",
    "\n",
    "print(sum(high_num_list))"
   ]
  }
 ],
 "metadata": {
  "kernelspec": {
   "display_name": "Python 3.9.6 64-bit",
   "language": "python",
   "name": "python3"
  },
  "language_info": {
   "codemirror_mode": {
    "name": "ipython",
    "version": 3
   },
   "file_extension": ".py",
   "mimetype": "text/x-python",
   "name": "python",
   "nbconvert_exporter": "python",
   "pygments_lexer": "ipython3",
   "version": "3.9.6"
  },
  "orig_nbformat": 4,
  "vscode": {
   "interpreter": {
    "hash": "26661b442aff7ea15cf4c9ce3f1085e1435c6171378b7b870c117ee6f69d91d7"
   }
  }
 },
 "nbformat": 4,
 "nbformat_minor": 2
}
