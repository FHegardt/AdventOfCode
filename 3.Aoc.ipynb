{
 "cells": [
  {
   "cell_type": "code",
   "execution_count": 75,
   "metadata": {},
   "outputs": [
    {
     "name": "stdout",
     "output_type": "stream",
     "text": [
      "000010110001\n",
      "111101001110\n",
      "693486\n"
     ]
    }
   ],
   "source": [
    "from csv import reader\n",
    "gamma_rate=\"\"\n",
    "epsilon_rate=\"\"\n",
    "bin_list = []\n",
    "with open('exer3.csv', 'r') as read_obj:\n",
    "    csv_reader = reader(read_obj)\n",
    "    for row in csv_reader:\n",
    "        bin_list.append(row)\n",
    "\n",
    "            \n",
    "\n",
    "\n",
    "\n",
    "for a in range(12):\n",
    "    one_counter = 0\n",
    "    zero_counter = 0\n",
    "    for b in range(len(bin_list)):\n",
    "        if(str(bin_list[b][0][a])) == \"1\":\n",
    "            one_counter +=1\n",
    "        else:\n",
    "            zero_counter +=1\n",
    "    if one_counter > zero_counter:\n",
    "        gamma_rate += \"1\"\n",
    "        epsilon_rate += \"0\"\n",
    "    else:\n",
    "        gamma_rate += \"0\"\n",
    "        epsilon_rate += \"1\"\n",
    "    \n",
    "print(gamma_rate)\n",
    "print(epsilon_rate)\n",
    "print((int(gamma_rate,2))*(int(epsilon_rate,2)))"
   ]
  }
 ],
 "metadata": {
  "interpreter": {
   "hash": "5240d1998bd1360560489128b0b85cbae06612a8d206712160bf2e32d6fff5ff"
  },
  "kernelspec": {
   "display_name": "Python 3.9.6 64-bit",
   "language": "python",
   "name": "python3"
  },
  "language_info": {
   "codemirror_mode": {
    "name": "ipython",
    "version": 3
   },
   "file_extension": ".py",
   "mimetype": "text/x-python",
   "name": "python",
   "nbconvert_exporter": "python",
   "pygments_lexer": "ipython3",
   "version": "3.9.6"
  },
  "orig_nbformat": 4
 },
 "nbformat": 4,
 "nbformat_minor": 2
}
